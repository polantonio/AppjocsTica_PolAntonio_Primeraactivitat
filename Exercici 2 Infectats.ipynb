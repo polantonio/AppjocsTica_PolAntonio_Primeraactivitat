{
 "cells": [
  {
   "cell_type": "markdown",
   "id": "0433fb33",
   "metadata": {},
   "source": [
    "Exercici 2\n"
   ]
  },
  {
   "cell_type": "code",
   "execution_count": 4,
   "id": "ec1b51ae",
   "metadata": {},
   "outputs": [],
   "source": [
    "infectats_inicials = 10"
   ]
  },
  {
   "cell_type": "code",
   "execution_count": 5,
   "id": "c1458413",
   "metadata": {},
   "outputs": [],
   "source": [
    "població = 1000"
   ]
  },
  {
   "cell_type": "code",
   "execution_count": 6,
   "id": "e5d28f18",
   "metadata": {},
   "outputs": [],
   "source": [
    "taxa_contagi = 0.01"
   ]
  },
  {
   "cell_type": "code",
   "execution_count": 7,
   "id": "478704ce",
   "metadata": {},
   "outputs": [],
   "source": [
    "dies = 5"
   ]
  },
  {
   "cell_type": "code",
   "execution_count": 8,
   "id": "6aa931f6",
   "metadata": {},
   "outputs": [],
   "source": [
    "infectats = infectats_inicials+(població-infectats_inicials)*(1-(1-taxa_contagi)**dies)"
   ]
  },
  {
   "cell_type": "code",
   "execution_count": 9,
   "id": "d6f2391a",
   "metadata": {},
   "outputs": [
    {
     "data": {
      "text/plain": [
       "58.51985059900009"
      ]
     },
     "execution_count": 9,
     "metadata": {},
     "output_type": "execute_result"
    }
   ],
   "source": [
    "infectats"
   ]
  }
 ],
 "metadata": {
  "kernelspec": {
   "display_name": "Python 3",
   "language": "python",
   "name": "python3"
  },
  "language_info": {
   "codemirror_mode": {
    "name": "ipython",
    "version": 3
   },
   "file_extension": ".py",
   "mimetype": "text/x-python",
   "name": "python",
   "nbconvert_exporter": "python",
   "pygments_lexer": "ipython3",
   "version": "3.13.7"
  }
 },
 "nbformat": 4,
 "nbformat_minor": 5
}
