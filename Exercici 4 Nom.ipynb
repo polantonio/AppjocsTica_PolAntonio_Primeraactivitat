{
 "cells": [
  {
   "cell_type": "code",
   "execution_count": 6,
   "id": "d2b2d2e0",
   "metadata": {},
   "outputs": [],
   "source": [
    "nom = \"polantonio\""
   ]
  },
  {
   "cell_type": "code",
   "execution_count": 7,
   "id": "c08f556c",
   "metadata": {},
   "outputs": [],
   "source": [
    "primera_lletra = \"p\""
   ]
  },
  {
   "cell_type": "code",
   "execution_count": 15,
   "id": "a387c8e8",
   "metadata": {},
   "outputs": [],
   "source": [
    "ultima_lletra = \"l\""
   ]
  },
  {
   "cell_type": "code",
   "execution_count": 16,
   "id": "d20384d0",
   "metadata": {},
   "outputs": [],
   "source": [
    "tres_lletres = \"ola\""
   ]
  },
  {
   "cell_type": "code",
   "execution_count": 17,
   "id": "f2a9fd2b",
   "metadata": {},
   "outputs": [],
   "source": [
    "nom_M = \"POL\""
   ]
  },
  {
   "cell_type": "code",
   "execution_count": 18,
   "id": "bbcfd09d",
   "metadata": {},
   "outputs": [],
   "source": [
    "nom_m = \"pol\""
   ]
  },
  {
   "cell_type": "code",
   "execution_count": 19,
   "id": "f31756c7",
   "metadata": {},
   "outputs": [],
   "source": [
    "llargada_nom=len(nom)"
   ]
  },
  {
   "cell_type": "code",
   "execution_count": 20,
   "id": "bb1d9c69",
   "metadata": {},
   "outputs": [
    {
     "name": "stdout",
     "output_type": "stream",
     "text": [
      "...\n"
     ]
    }
   ],
   "source": [
    "print(f\"...\")"
   ]
  },
  {
   "cell_type": "code",
   "execution_count": 21,
   "id": "65390aa6",
   "metadata": {},
   "outputs": [
    {
     "name": "stdout",
     "output_type": "stream",
     "text": [
      "Hola, el meu nom és polantonio.\n",
      "\n"
     ]
    }
   ],
   "source": [
    "print(f\"Hola, el meu nom és {nom}.\\n\")"
   ]
  },
  {
   "cell_type": "code",
   "execution_count": 22,
   "id": "462b0792",
   "metadata": {},
   "outputs": [
    {
     "name": "stdout",
     "output_type": "stream",
     "text": [
      "la primera lletra del meu nom és p.\n",
      "\n"
     ]
    }
   ],
   "source": [
    "print(f\"la primera lletra del meu nom és {primera_lletra}.\\n\")"
   ]
  },
  {
   "cell_type": "code",
   "execution_count": 26,
   "id": "f78cd201",
   "metadata": {},
   "outputs": [
    {
     "name": "stdout",
     "output_type": "stream",
     "text": [
      "L'última lletra del meu nom és l.\n",
      "\n"
     ]
    }
   ],
   "source": [
    "print(f\"L'última lletra del meu nom és {ultima_lletra}.\\n\")"
   ]
  },
  {
   "cell_type": "code",
   "execution_count": 28,
   "id": "13481f74",
   "metadata": {},
   "outputs": [
    {
     "name": "stdout",
     "output_type": "stream",
     "text": [
      "Els tres caràcters del meu nom és ola.\n",
      "\n"
     ]
    }
   ],
   "source": [
    "print(f\"Els tres caràcters del meu nom és {tres_lletres}.\\n\")"
   ]
  },
  {
   "cell_type": "code",
   "execution_count": 29,
   "id": "0dcc526f",
   "metadata": {},
   "outputs": [
    {
     "name": "stdout",
     "output_type": "stream",
     "text": [
      "El meu nom amb espais té 10.\n",
      "\n"
     ]
    }
   ],
   "source": [
    "print(f\"El meu nom amb espais té {llargada_nom}.\\n\")"
   ]
  },
  {
   "cell_type": "code",
   "execution_count": 30,
   "id": "4ff6c94f",
   "metadata": {},
   "outputs": [
    {
     "name": "stdout",
     "output_type": "stream",
     "text": [
      "El meu nom amb majúscules és POL.\n",
      "\n"
     ]
    }
   ],
   "source": [
    "print(f\"El meu nom amb majúscules és {nom_M}.\\n\")"
   ]
  },
  {
   "cell_type": "code",
   "execution_count": 31,
   "id": "3f233f4e",
   "metadata": {},
   "outputs": [
    {
     "name": "stdout",
     "output_type": "stream",
     "text": [
      "El meu nom en minúscules és pol.\n",
      "\n"
     ]
    }
   ],
   "source": [
    "print(f\"El meu nom en minúscules és {nom_m}.\\n\")"
   ]
  }
 ],
 "metadata": {
  "kernelspec": {
   "display_name": "Python 3",
   "language": "python",
   "name": "python3"
  },
  "language_info": {
   "codemirror_mode": {
    "name": "ipython",
    "version": 3
   },
   "file_extension": ".py",
   "mimetype": "text/x-python",
   "name": "python",
   "nbconvert_exporter": "python",
   "pygments_lexer": "ipython3",
   "version": "3.13.7"
  }
 },
 "nbformat": 4,
 "nbformat_minor": 5
}
