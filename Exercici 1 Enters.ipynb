{
 "cells": [
  {
   "cell_type": "code",
   "execution_count": 2,
   "id": "7707197b",
   "metadata": {},
   "outputs": [],
   "source": [
    "preu_entrada = 8.35"
   ]
  },
  {
   "cell_type": "code",
   "execution_count": 3,
   "id": "d8f6ca81",
   "metadata": {},
   "outputs": [],
   "source": [
    "nombre_entrades = 1"
   ]
  },
  {
   "cell_type": "code",
   "execution_count": 6,
   "id": "47092d51",
   "metadata": {},
   "outputs": [],
   "source": [
    "nombre_entrada = 5"
   ]
  },
  {
   "cell_type": "code",
   "execution_count": 7,
   "id": "ff754313",
   "metadata": {},
   "outputs": [],
   "source": [
    "nombre_entrada = 354"
   ]
  },
  {
   "cell_type": "code",
   "execution_count": 8,
   "id": "e5ef6681",
   "metadata": {},
   "outputs": [
    {
     "data": {
      "text/plain": [
       "8.35"
      ]
     },
     "execution_count": 8,
     "metadata": {},
     "output_type": "execute_result"
    }
   ],
   "source": [
    "8.35*1"
   ]
  },
  {
   "cell_type": "code",
   "execution_count": 9,
   "id": "636bc32d",
   "metadata": {},
   "outputs": [
    {
     "data": {
      "text/plain": [
       "41.75"
      ]
     },
     "execution_count": 9,
     "metadata": {},
     "output_type": "execute_result"
    }
   ],
   "source": [
    "8.35*5"
   ]
  },
  {
   "cell_type": "code",
   "execution_count": 10,
   "id": "763138f4",
   "metadata": {},
   "outputs": [
    {
     "data": {
      "text/plain": [
       "2955.9"
      ]
     },
     "execution_count": 10,
     "metadata": {},
     "output_type": "execute_result"
    }
   ],
   "source": [
    "8.35*354"
   ]
  },
  {
   "cell_type": "code",
   "execution_count": 11,
   "id": "e2cdb3d7",
   "metadata": {},
   "outputs": [],
   "source": [
    "cost_total = (nombre_entrada)*(preu_entrada)"
   ]
  },
  {
   "cell_type": "code",
   "execution_count": null,
   "id": "f9819f16",
   "metadata": {},
   "outputs": [],
   "source": [
    "nombre_entrada = 354"
   ]
  },
  {
   "cell_type": "code",
   "execution_count": 14,
   "id": "5bd771ed",
   "metadata": {},
   "outputs": [
    {
     "data": {
      "text/plain": [
       "2955.9"
      ]
     },
     "execution_count": 14,
     "metadata": {},
     "output_type": "execute_result"
    }
   ],
   "source": [
    "cost_total"
   ]
  },
  {
   "cell_type": "code",
   "execution_count": 32,
   "id": "1aaa6449",
   "metadata": {},
   "outputs": [],
   "source": [
    "nombre_entrades_retornades = 4"
   ]
  },
  {
   "cell_type": "code",
   "execution_count": 33,
   "id": "27095eb6",
   "metadata": {},
   "outputs": [],
   "source": [
    "percentatge = 8.35*88/100"
   ]
  },
  {
   "cell_type": "code",
   "execution_count": 34,
   "id": "e2b90ec4",
   "metadata": {},
   "outputs": [],
   "source": [
    "preu_entrades = 8.35"
   ]
  },
  {
   "cell_type": "code",
   "execution_count": 35,
   "id": "0bebed72",
   "metadata": {},
   "outputs": [],
   "source": [
    "nombre_entrades = 10-4"
   ]
  },
  {
   "cell_type": "code",
   "execution_count": 36,
   "id": "9820b861",
   "metadata": {},
   "outputs": [],
   "source": [
    "cost_total=(nombre_entrades*preu_entrades)-nombre_entrades_retornades*percentatge"
   ]
  },
  {
   "cell_type": "code",
   "execution_count": 37,
   "id": "bda9d329",
   "metadata": {},
   "outputs": [
    {
     "data": {
      "text/plain": [
       "20.707999999999995"
      ]
     },
     "execution_count": 37,
     "metadata": {},
     "output_type": "execute_result"
    }
   ],
   "source": [
    "cost_total"
   ]
  },
  {
   "cell_type": "markdown",
   "id": "22f62dd0",
   "metadata": {},
   "source": []
  }
 ],
 "metadata": {
  "kernelspec": {
   "display_name": "Python 3",
   "language": "python",
   "name": "python3"
  },
  "language_info": {
   "codemirror_mode": {
    "name": "ipython",
    "version": 3
   },
   "file_extension": ".py",
   "mimetype": "text/x-python",
   "name": "python",
   "nbconvert_exporter": "python",
   "pygments_lexer": "ipython3",
   "version": "3.13.7"
  }
 },
 "nbformat": 4,
 "nbformat_minor": 5
}
